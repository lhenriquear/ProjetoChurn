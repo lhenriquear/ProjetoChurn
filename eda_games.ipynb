{
 "cells": [
  {
   "cell_type": "markdown",
   "metadata": {},
   "source": [
    "## Para iniciar as análises e preparação para a modelagem, vamos entender e preparar os datasets para criar uma base de treino e teste para os modelos preditivos."
   ]
  },
  {
   "cell_type": "markdown",
   "metadata": {},
   "source": [
    "### Começamos improtando todas as bibliotecas necessárias para esse trabalho."
   ]
  },
  {
   "cell_type": "code",
   "execution_count": 1,
   "metadata": {},
   "outputs": [],
   "source": [
    "import os\n",
    "import pandas as pd\n",
    "import numpy as np\n",
    "import seaborn as sns\n",
    "import matplotlib.pyplot as plt\n",
    "\n",
    "# Vamos retirar a restrição de limite de colunas visíveis para ficar mais fácil visualizar as features.\n",
    "pd.set_option('display.max_columns', None)"
   ]
  },
  {
   "cell_type": "code",
   "execution_count": 2,
   "metadata": {},
   "outputs": [],
   "source": [
    "# Vamos abrir as tabelas .csv extraídas da base de dados do app como dataframes de trabalho.\n",
    "users = pd.read_csv('../CSVs/tbl_users.csv', sep=';', low_memory=False)\n",
    "events = pd.read_csv('../CSVs/tbl_events.csv', low_memory=False)\n",
    "users_events = pd.read_csv('../CSVs/tbl_users_events.csv', low_memory=False)\n",
    "analise = pd.read_csv('../CSVs/gg_analise_db1.csv', sep=';', low_memory=False)\n",
    "users_games = pd.read_csv('../CSVs/tbl_users_games.csv', low_memory=False)\n",
    "games = pd.read_json('../CSVs/tbl_games.json')\n",
    "friends = pd.read_csv('../CSVs/tbl_friends.csv', low_memory=False)\n",
    "chats = pd.read_csv('../CSVs/tbl_chat_members.csv', low_memory=False)\n",
    "plataformas = pd.read_csv('../CSVs/tbl_platforms.csv', low_memory=False)\n",
    "platforms = pd.read_csv('../CSVs/tbl_users_platforms.csv', low_memory=False)\n",
    "logs = pd.read_csv('../CSVs/tbl_users_login_log.csv', low_memory=False)"
   ]
  },
  {
   "cell_type": "markdown",
   "metadata": {},
   "source": [
    "### Vamos começar o trabalho de organização, limpeza e engenharia de features."
   ]
  },
  {
   "cell_type": "code",
   "execution_count": 3,
   "metadata": {},
   "outputs": [],
   "source": [
    "# Ao tentar fazer a mudança para INT, apareceram erros devido a alguns dados da coluna não serem numéricos.\n",
    "# Aí eu busquei esses registros, que eram poucos, para eliminar as linhas.\n",
    "users.loc[users['id']=='   \"']\n",
    "users.loc[users['id']=='?>\"']\n",
    "\n",
    "# Eliminando as linhas problemáticas.\n",
    "users.drop(index=16790, inplace=True)\n",
    "users.drop(index=22557, inplace=True)\n",
    "\n",
    "# Aí, sim, alterando a coluna id para INT.\n",
    "users.id = users.id.astype(int)"
   ]
  },
  {
   "cell_type": "code",
   "execution_count": 4,
   "metadata": {},
   "outputs": [],
   "source": [
    "# Definindo o ID como index e renomeando para 'user_id'.\n",
    "gg_users = users.set_index('id', drop=True)\n",
    "gg_users.rename_axis('user_id', inplace=True)"
   ]
  },
  {
   "cell_type": "markdown",
   "metadata": {},
   "source": [
    "### Agora, vamos trabalhar algumas features em diferentes tabelas para criar as métricas que vamos utilizar para tentar identificar comportamentos dos usuários no app."
   ]
  },
  {
   "cell_type": "code",
   "execution_count": 5,
   "metadata": {
    "jupyter": {
     "source_hidden": true
    }
   },
   "outputs": [],
   "source": [
    "# Vamos agrupar os jogos por user_id para calcular a quantidade de jogos que\n",
    "# cada usuário tem cadastrado no app e preparar para concatenar ao dataset principal.\n",
    "grouped_games = users_games.groupby(by='user_id').count()\n",
    "grouped_games.rename(columns={'id':'qtde_games'}, inplace=True)\n",
    "grouped_games.drop(columns=['game_id', \n",
    "                            'platform_id', \n",
    "                            'network_id', \n",
    "                            'is_favorite', \n",
    "                            'status_id'], \n",
    "                   inplace=True\n",
    "                  )"
   ]
  },
  {
   "cell_type": "code",
   "execution_count": 6,
   "metadata": {},
   "outputs": [],
   "source": [
    "# Vamos fazer o mesmo para a quantidade de Grupos criados ('events').\n",
    "events.rename(columns={'created_by':'user_id'}, inplace=True)\n",
    "grouped_events = events.groupby(by='user_id').count()\n",
    "grouped_events.rename(columns={'id':'qtde_grupos'}, inplace=True)\n",
    "grouped_events.drop(grouped_events.iloc[:, 1:], inplace = True, axis = 1) "
   ]
  },
  {
   "cell_type": "code",
   "execution_count": 7,
   "metadata": {},
   "outputs": [],
   "source": [
    "# E o mesmo para a quantidade de conexões ('friends').\n",
    "grouped_friends = friends.groupby(by='user_id').count()\n",
    "grouped_friends.drop(columns=['id'], inplace=True)\n",
    "grouped_friends.rename(columns={'friend_id':'qtde_contatos'}, inplace=True)"
   ]
  },
  {
   "cell_type": "code",
   "execution_count": 8,
   "metadata": {},
   "outputs": [],
   "source": [
    "# Também para as ações realizadas pelos usuários no app ('users_events'). \n",
    "grouped_user_events = users_events.groupby(by='user_id').count()\n",
    "grouped_user_events.rename(columns={'id':'qtde_eventos'}, inplace=True)\n",
    "grouped_user_events.drop(grouped_user_events.iloc[:, 1:], inplace = True, axis = 1) "
   ]
  },
  {
   "cell_type": "code",
   "execution_count": 9,
   "metadata": {},
   "outputs": [],
   "source": [
    "# E também para as mensagens de chat trocadas por cada usuário ('chats').\n",
    "chats_grouped = chats.groupby(by='user_id').count()\n",
    "chats_grouped.rename(columns={'chat_id':'qtde_mensagens'}, inplace=True)\n",
    "chats_grouped.drop(chats_grouped.iloc[:, 1:], inplace = True, axis = 1) "
   ]
  },
  {
   "cell_type": "code",
   "execution_count": 10,
   "metadata": {},
   "outputs": [],
   "source": [
    "# Tambem para a quantidade de Plataformas cadastradas ('platforms').\n",
    "platforms_grouped = platforms.groupby(by='user_id').count()\n",
    "platforms_grouped.rename(columns={'id':'qtde_plataformas'}, inplace=True)\n",
    "platforms_grouped.drop(platforms_grouped.iloc[:, 1:], inplace = True, axis = 1) "
   ]
  },
  {
   "cell_type": "code",
   "execution_count": 11,
   "metadata": {},
   "outputs": [],
   "source": [
    "# E, por fim, para a quantidade de logins realizados pelo usuários, o que mostra a frequência de acessos ('logs').\n",
    "grouped_logs = logs.groupby(by='user_id').count()\n",
    "grouped_logs.rename(columns={'id':'qtde_acessos'}, inplace=True)\n",
    "grouped_logs.drop(columns=['login_datetime'], inplace=True)"
   ]
  },
  {
   "cell_type": "code",
   "execution_count": 12,
   "metadata": {},
   "outputs": [],
   "source": [
    "# Agora concatenamos todas as features junto com o dataset principal.\n",
    "users_gg = pd.concat([gg_users, \n",
    "                      grouped_games, \n",
    "                      grouped_events, \n",
    "                      grouped_friends, \n",
    "                      grouped_user_events, \n",
    "                      chats_grouped, \n",
    "                      platforms_grouped, \n",
    "                      grouped_logs], \n",
    "                      axis = 1\n",
    "                    )"
   ]
  },
  {
   "cell_type": "code",
   "execution_count": 13,
   "metadata": {},
   "outputs": [],
   "source": [
    "# Os dados nulos precisam ser entendidos pelo modelo, então vamos tratá-los como 0, \n",
    "# pois significa que o usuário não tem nenhuma daquelas features cadastradas.\n",
    "users_gg[\"qtde_games\"].fillna(0, inplace=True)\n",
    "users_gg[\"qtde_grupos\"].fillna(0, inplace=True)\n",
    "users_gg[\"qtde_contatos\"].fillna(0, inplace=True)\n",
    "users_gg[\"qtde_eventos\"].fillna(0, inplace=True)\n",
    "users_gg[\"qtde_mensagens\"].fillna(0, inplace=True)\n",
    "users_gg[\"qtde_plataformas\"].fillna(0, inplace=True)\n",
    "users_gg[\"qtde_acessos\"].fillna(0, inplace=True)"
   ]
  },
  {
   "cell_type": "code",
   "execution_count": 14,
   "metadata": {},
   "outputs": [],
   "source": [
    "# Eliminando as linhas que não têm informação de last_login. Não serão úteis.\n",
    "users_gg.dropna(how='any', subset=['last_login'], inplace=True)"
   ]
  },
  {
   "cell_type": "code",
   "execution_count": 15,
   "metadata": {},
   "outputs": [
    {
     "data": {
      "text/html": [
       "<div>\n",
       "<style scoped>\n",
       "    .dataframe tbody tr th:only-of-type {\n",
       "        vertical-align: middle;\n",
       "    }\n",
       "\n",
       "    .dataframe tbody tr th {\n",
       "        vertical-align: top;\n",
       "    }\n",
       "\n",
       "    .dataframe thead th {\n",
       "        text-align: right;\n",
       "    }\n",
       "</style>\n",
       "<table border=\"1\" class=\"dataframe\">\n",
       "  <thead>\n",
       "    <tr style=\"text-align: right;\">\n",
       "      <th></th>\n",
       "      <th>email</th>\n",
       "      <th>pass_hash</th>\n",
       "      <th>name</th>\n",
       "      <th>nickname</th>\n",
       "      <th>avatar</th>\n",
       "      <th>profile_pic_id</th>\n",
       "      <th>uploaded_photo_timestamp</th>\n",
       "      <th>top_image</th>\n",
       "      <th>profile_bg_id</th>\n",
       "      <th>birthday</th>\n",
       "      <th>gender</th>\n",
       "      <th>city</th>\n",
       "      <th>state</th>\n",
       "      <th>country</th>\n",
       "      <th>ip_country_code</th>\n",
       "      <th>lat</th>\n",
       "      <th>lng</th>\n",
       "      <th>fbid</th>\n",
       "      <th>steam_uid</th>\n",
       "      <th>steam_pic_url</th>\n",
       "      <th>quickblox_id</th>\n",
       "      <th>steam_id</th>\n",
       "      <th>psn_id</th>\n",
       "      <th>xboxlive_id</th>\n",
       "      <th>nintendo_id</th>\n",
       "      <th>gamecenter_id</th>\n",
       "      <th>googleplay_id</th>\n",
       "      <th>battlenet_id</th>\n",
       "      <th>uplay_id</th>\n",
       "      <th>origin_id</th>\n",
       "      <th>youtube_id</th>\n",
       "      <th>twitch_id</th>\n",
       "      <th>phone_country_prefix</th>\n",
       "      <th>phone_country</th>\n",
       "      <th>phone_area</th>\n",
       "      <th>phone_number</th>\n",
       "      <th>creation_datetime</th>\n",
       "      <th>ak_id</th>\n",
       "      <th>ak_number</th>\n",
       "      <th>update_datetime</th>\n",
       "      <th>remember_token</th>\n",
       "      <th>access_token</th>\n",
       "      <th>firebase_id</th>\n",
       "      <th>special_mark</th>\n",
       "      <th>last_login</th>\n",
       "      <th>last_interaction</th>\n",
       "      <th>qtde_games</th>\n",
       "      <th>qtde_grupos</th>\n",
       "      <th>qtde_contatos</th>\n",
       "      <th>qtde_eventos</th>\n",
       "      <th>qtde_mensagens</th>\n",
       "      <th>qtde_plataformas</th>\n",
       "      <th>qtde_acessos</th>\n",
       "    </tr>\n",
       "    <tr>\n",
       "      <th>user_id</th>\n",
       "      <th></th>\n",
       "      <th></th>\n",
       "      <th></th>\n",
       "      <th></th>\n",
       "      <th></th>\n",
       "      <th></th>\n",
       "      <th></th>\n",
       "      <th></th>\n",
       "      <th></th>\n",
       "      <th></th>\n",
       "      <th></th>\n",
       "      <th></th>\n",
       "      <th></th>\n",
       "      <th></th>\n",
       "      <th></th>\n",
       "      <th></th>\n",
       "      <th></th>\n",
       "      <th></th>\n",
       "      <th></th>\n",
       "      <th></th>\n",
       "      <th></th>\n",
       "      <th></th>\n",
       "      <th></th>\n",
       "      <th></th>\n",
       "      <th></th>\n",
       "      <th></th>\n",
       "      <th></th>\n",
       "      <th></th>\n",
       "      <th></th>\n",
       "      <th></th>\n",
       "      <th></th>\n",
       "      <th></th>\n",
       "      <th></th>\n",
       "      <th></th>\n",
       "      <th></th>\n",
       "      <th></th>\n",
       "      <th></th>\n",
       "      <th></th>\n",
       "      <th></th>\n",
       "      <th></th>\n",
       "      <th></th>\n",
       "      <th></th>\n",
       "      <th></th>\n",
       "      <th></th>\n",
       "      <th></th>\n",
       "      <th></th>\n",
       "      <th></th>\n",
       "      <th></th>\n",
       "      <th></th>\n",
       "      <th></th>\n",
       "      <th></th>\n",
       "      <th></th>\n",
       "      <th></th>\n",
       "    </tr>\n",
       "  </thead>\n",
       "  <tbody>\n",
       "    <tr>\n",
       "      <th>49211</th>\n",
       "      <td>NaN</td>\n",
       "      <td>NaN</td>\n",
       "      <td>NaN</td>\n",
       "      <td>deletethis</td>\n",
       "      <td>NaN</td>\n",
       "      <td>NaN</td>\n",
       "      <td>NaN</td>\n",
       "      <td>NaN</td>\n",
       "      <td>NaN</td>\n",
       "      <td>NaN</td>\n",
       "      <td>NaN</td>\n",
       "      <td>NaN</td>\n",
       "      <td>NaN</td>\n",
       "      <td>NaN</td>\n",
       "      <td>NaN</td>\n",
       "      <td>NaN</td>\n",
       "      <td>NaN</td>\n",
       "      <td>NaN</td>\n",
       "      <td>NaN</td>\n",
       "      <td>NaN</td>\n",
       "      <td>NaN</td>\n",
       "      <td>NaN</td>\n",
       "      <td>NaN</td>\n",
       "      <td>NaN</td>\n",
       "      <td>NaN</td>\n",
       "      <td>NaN</td>\n",
       "      <td>NaN</td>\n",
       "      <td>NaN</td>\n",
       "      <td>NaN</td>\n",
       "      <td>NaN</td>\n",
       "      <td>NaN</td>\n",
       "      <td>NaN</td>\n",
       "      <td>NaN</td>\n",
       "      <td>NaN</td>\n",
       "      <td>NaN</td>\n",
       "      <td>NaN</td>\n",
       "      <td>0000-00-00 00:00:00</td>\n",
       "      <td>NaN</td>\n",
       "      <td>NaN</td>\n",
       "      <td>NaN</td>\n",
       "      <td>NaN</td>\n",
       "      <td>NaN</td>\n",
       "      <td>NaN</td>\n",
       "      <td>NaN</td>\n",
       "      <td>2020-09-03 20:17:30</td>\n",
       "      <td>2020-09-03 20:17:30</td>\n",
       "      <td>0.0</td>\n",
       "      <td>0.0</td>\n",
       "      <td>0.0</td>\n",
       "      <td>0.0</td>\n",
       "      <td>0.0</td>\n",
       "      <td>1.0</td>\n",
       "      <td>4.0</td>\n",
       "    </tr>\n",
       "  </tbody>\n",
       "</table>\n",
       "</div>"
      ],
      "text/plain": [
       "        email pass_hash name    nickname avatar  profile_pic_id  \\\n",
       "user_id                                                           \n",
       "49211     NaN       NaN  NaN  deletethis    NaN             NaN   \n",
       "\n",
       "        uploaded_photo_timestamp top_image profile_bg_id  birthday gender  \\\n",
       "user_id                                                                     \n",
       "49211                        NaN       NaN           NaN       NaN    NaN   \n",
       "\n",
       "        city state  country ip_country_code  lat  lng  fbid steam_uid  \\\n",
       "user_id                                                                 \n",
       "49211    NaN   NaN      NaN             NaN  NaN  NaN   NaN       NaN   \n",
       "\n",
       "        steam_pic_url  quickblox_id steam_id psn_id xboxlive_id nintendo_id  \\\n",
       "user_id                                                                       \n",
       "49211             NaN           NaN      NaN    NaN         NaN         NaN   \n",
       "\n",
       "        gamecenter_id googleplay_id battlenet_id uplay_id origin_id  \\\n",
       "user_id                                                               \n",
       "49211             NaN           NaN          NaN      NaN       NaN   \n",
       "\n",
       "        youtube_id twitch_id phone_country_prefix phone_country phone_area  \\\n",
       "user_id                                                                      \n",
       "49211          NaN       NaN                  NaN           NaN        NaN   \n",
       "\n",
       "         phone_number    creation_datetime ak_id ak_number update_datetime  \\\n",
       "user_id                                                                      \n",
       "49211             NaN  0000-00-00 00:00:00   NaN       NaN             NaN   \n",
       "\n",
       "        remember_token access_token firebase_id special_mark  \\\n",
       "user_id                                                        \n",
       "49211              NaN          NaN         NaN          NaN   \n",
       "\n",
       "                  last_login     last_interaction  qtde_games  qtde_grupos  \\\n",
       "user_id                                                                      \n",
       "49211    2020-09-03 20:17:30  2020-09-03 20:17:30         0.0          0.0   \n",
       "\n",
       "         qtde_contatos  qtde_eventos  qtde_mensagens  qtde_plataformas  \\\n",
       "user_id                                                                  \n",
       "49211              0.0           0.0             0.0               1.0   \n",
       "\n",
       "         qtde_acessos  \n",
       "user_id                \n",
       "49211             4.0  "
      ]
     },
     "execution_count": 15,
     "metadata": {},
     "output_type": "execute_result"
    }
   ],
   "source": [
    "# Ao tentar converter creation_datetime, que é string, para o formato datetime, \n",
    "# deu erro porque alguma linha tinha valor '0000-00-00 00:00:00'.\n",
    "# Precisamos encontrar essa(s) linha(s) e eliminá-la(s).\n",
    "users_gg.loc[users_gg['creation_datetime']=='0000-00-00 00:00:00']"
   ]
  },
  {
   "cell_type": "code",
   "execution_count": 16,
   "metadata": {},
   "outputs": [],
   "source": [
    "users_gg.drop(labels=49211, inplace=True)"
   ]
  },
  {
   "cell_type": "code",
   "execution_count": 17,
   "metadata": {},
   "outputs": [],
   "source": [
    "# Agora vamos converter todos os timestamps para datetime.\n",
    "users_gg['creation_datetime'] = pd.to_datetime(users_gg['creation_datetime'])\n",
    "users_gg['last_login'] = pd.to_datetime(users_gg['last_login'])\n",
    "users_gg['last_interaction'] = pd.to_datetime(users_gg['last_interaction'])\n",
    "\n",
    "# Depois vamos criar uma coluna de churn, com base no número de dias de inatividade \n",
    "# entre hoje e a data de último login. Se for maior que 30 dias, consideramos churn.\n",
    "# Essa coluna será o nosso targets para os modelos.\n",
    "# Definimos 30 dias de acordo com o que a área de negócios considera um período \n",
    "# indicativo de parada de uso do app.\n",
    "curr_time = pd.to_datetime(\"now\")\n",
    "users_gg['inatividade'] = curr_time - users_gg['last_interaction']\n",
    "users_gg['inatividade_days'] = users_gg['inatividade'].dt.days\n",
    "users_gg['churn'] = users_gg['inatividade_days']>30"
   ]
  },
  {
   "cell_type": "code",
   "execution_count": 18,
   "metadata": {},
   "outputs": [],
   "source": [
    "# Agora vamos criar uma coluna que nos diga quanto tempo o usuário passou dentro do app \n",
    "# entre o primeiro login 'creation_datetime' e a última interação 'last_interaction'.\n",
    "# E vamos criar outra coluna identificando aqueles que ficaram menos de 30 dias no app.\n",
    "users_gg['tempo_uso'] = users_gg['last_interaction'] - users_gg['creation_datetime']\n",
    "users_gg['tempo_uso_days'] = users_gg['tempo_uso'].dt.days\n",
    "users_gg['pouco_uso'] = users_gg['tempo_uso_days']<30"
   ]
  },
  {
   "cell_type": "code",
   "execution_count": 19,
   "metadata": {},
   "outputs": [
    {
     "data": {
      "text/plain": [
       "False    55840\n",
       "True     15348\n",
       "Name: pouco_uso, dtype: int64"
      ]
     },
     "execution_count": 19,
     "metadata": {},
     "output_type": "execute_result"
    }
   ],
   "source": [
    "users_gg['pouco_uso'].value_counts()"
   ]
  },
  {
   "cell_type": "markdown",
   "metadata": {},
   "source": [
    "### Vemos que cerca de 20% dos usuários tiveram menos de 30 dias de uso do app.\n",
    "### "
   ]
  },
  {
   "cell_type": "markdown",
   "metadata": {},
   "source": [
    "### Agora, como a empresa começou a fazer modificações no app e iniciou ações de marketing para atração de novos usuários a partir de Julho de 2020, definimos com a área de negócios que vamos trabalhar com os usuários que entraram a partir dessa data apenas, desconsiderando os usuários antigos."
   ]
  },
  {
   "cell_type": "code",
   "execution_count": 20,
   "metadata": {},
   "outputs": [],
   "source": [
    "gg_dataset = users_gg.loc[users_gg['creation_datetime']>'2020-07-01']"
   ]
  },
  {
   "cell_type": "markdown",
   "metadata": {},
   "source": [
    "### Analisando as features nesse período, vemos que há muitas sem qualquer valor e uma grande quantidade delas são strings, que precisarão ser convertidas em números para a análise dos modelos.\n",
    "### Vamos eliminar as nulas e ver como tratar as incompletas."
   ]
  },
  {
   "cell_type": "code",
   "execution_count": 21,
   "metadata": {},
   "outputs": [
    {
     "name": "stderr",
     "output_type": "stream",
     "text": [
      "<ipython-input-21-d198368bc5f5>:1: SettingWithCopyWarning: \n",
      "A value is trying to be set on a copy of a slice from a DataFrame\n",
      "\n",
      "See the caveats in the documentation: https://pandas.pydata.org/pandas-docs/stable/user_guide/indexing.html#returning-a-view-versus-a-copy\n",
      "  gg_dataset.dropna(how='all', axis=1, inplace=True)\n"
     ]
    }
   ],
   "source": [
    "gg_dataset.dropna(how='all', axis=1, inplace=True)"
   ]
  },
  {
   "cell_type": "code",
   "execution_count": 22,
   "metadata": {},
   "outputs": [
    {
     "name": "stdout",
     "output_type": "stream",
     "text": [
      "<class 'pandas.core.frame.DataFrame'>\n",
      "Int64Index: 20120 entries, 51076 to 71195\n",
      "Data columns (total 49 columns):\n",
      " #   Column                    Non-Null Count  Dtype          \n",
      "---  ------                    --------------  -----          \n",
      " 0   email                     18882 non-null  object         \n",
      " 1   pass_hash                 6800 non-null   object         \n",
      " 2   name                      10906 non-null  object         \n",
      " 3   nickname                  17748 non-null  object         \n",
      " 4   avatar                    11229 non-null  object         \n",
      " 5   profile_pic_id            11152 non-null  float64        \n",
      " 6   uploaded_photo_timestamp  740 non-null    object         \n",
      " 7   top_image                 1074 non-null   object         \n",
      " 8   profile_bg_id             900 non-null    object         \n",
      " 9   city                      590 non-null    object         \n",
      " 10  ip_country_code           19933 non-null  object         \n",
      " 11  lat                       14202 non-null  float64        \n",
      " 12  lng                       14202 non-null  object         \n",
      " 13  fbid                      10243 non-null  float64        \n",
      " 14  quickblox_id              16032 non-null  float64        \n",
      " 15  steam_id                  113 non-null    object         \n",
      " 16  psn_id                    141 non-null    object         \n",
      " 17  xboxlive_id               105 non-null    object         \n",
      " 18  nintendo_id               18 non-null     object         \n",
      " 19  gamecenter_id             18 non-null     object         \n",
      " 20  googleplay_id             89 non-null     object         \n",
      " 21  battlenet_id              27 non-null     object         \n",
      " 22  uplay_id                  30 non-null     object         \n",
      " 23  origin_id                 22 non-null     object         \n",
      " 24  youtube_id                98 non-null     object         \n",
      " 25  twitch_id                 82 non-null     object         \n",
      " 26  phone_country             2915 non-null   object         \n",
      " 27  phone_number              2914 non-null   float64        \n",
      " 28  creation_datetime         20120 non-null  datetime64[ns] \n",
      " 29  update_datetime           17260 non-null  object         \n",
      " 30  remember_token            79 non-null     object         \n",
      " 31  access_token              20040 non-null  object         \n",
      " 32  firebase_id               3088 non-null   object         \n",
      " 33  special_mark              20120 non-null  object         \n",
      " 34  last_login                20120 non-null  datetime64[ns] \n",
      " 35  last_interaction          20120 non-null  datetime64[ns] \n",
      " 36  qtde_games                20120 non-null  float64        \n",
      " 37  qtde_grupos               20120 non-null  float64        \n",
      " 38  qtde_contatos             20120 non-null  float64        \n",
      " 39  qtde_eventos              20120 non-null  float64        \n",
      " 40  qtde_mensagens            20120 non-null  float64        \n",
      " 41  qtde_plataformas          20120 non-null  float64        \n",
      " 42  qtde_acessos              20120 non-null  float64        \n",
      " 43  inatividade               20120 non-null  timedelta64[ns]\n",
      " 44  inatividade_days          20120 non-null  int64          \n",
      " 45  churn                     20120 non-null  bool           \n",
      " 46  tempo_uso                 20120 non-null  timedelta64[ns]\n",
      " 47  tempo_uso_days            20120 non-null  int64          \n",
      " 48  pouco_uso                 20120 non-null  bool           \n",
      "dtypes: bool(2), datetime64[ns](3), float64(12), int64(2), object(28), timedelta64[ns](2)\n",
      "memory usage: 7.4+ MB\n"
     ]
    }
   ],
   "source": [
    "gg_dataset.info()"
   ]
  },
  {
   "cell_type": "code",
   "execution_count": 23,
   "metadata": {},
   "outputs": [],
   "source": [
    "# Algumas features não nos serão úteis pois contém informações irrelevantes para as análises.\n",
    "# Vamos eliminá-las.\n",
    "gg_dataset_work = gg_dataset.drop(columns=['pass_hash', \n",
    "                                           'uploaded_photo_timestamp', \n",
    "                                           'top_image', \n",
    "                                           'profile_bg_id', \n",
    "                                           'phone_country', \n",
    "                                           'update_datetime', \n",
    "                                           'remember_token', \n",
    "                                           'access_token', \n",
    "                                           'special_mark', \n",
    "                                           'firebase_id']\n",
    "                                 )"
   ]
  },
  {
   "cell_type": "code",
   "execution_count": 24,
   "metadata": {},
   "outputs": [],
   "source": [
    "# agora, pra facilitar as análises numéricas, vamos transformas algumas colunas em categóricas.\n",
    "# Por exemplo, vamos considerar apenas a presença ou não de avatar, sem especificar qual.\n",
    "# Da mesma forma, a presença ou não de ID para as plataformas, sem considerar o ID específico.\n",
    "gg_dataset_work['email'] = np.where(gg_dataset_work['email'].isnull(), 0, 1)\n",
    "gg_dataset_work['name'] = np.where(gg_dataset_work['name'].isnull(), 0, 1)\n",
    "gg_dataset_work['nickname'] = np.where(gg_dataset_work['nickname'].isnull(), 0, 1)\n",
    "gg_dataset_work['avatar'] = np.where(gg_dataset_work['avatar'].isnull(), 0, 1)\n",
    "gg_dataset_work['profile_pic_id'] = np.where(gg_dataset_work['profile_pic_id'].isnull(), 0, 1)\n",
    "gg_dataset_work['city'] = np.where(gg_dataset_work['city'].isnull(), 0, 1)\n",
    "gg_dataset_work['ip_country_code'] = np.where(gg_dataset_work['ip_country_code']=='BR', 1, 0)\n",
    "gg_dataset_work['fbid'] = np.where(gg_dataset_work['fbid'].isnull(), 0, 1)\n",
    "gg_dataset_work['quickblox_id'] = np.where(gg_dataset_work['quickblox_id'].isnull(), 0, 1)\n",
    "gg_dataset_work['steam_id'] = np.where(gg_dataset_work['steam_id'].isnull(), 0, 1)\n",
    "gg_dataset_work['psn_id'] = np.where(gg_dataset_work['psn_id'].isnull(), 0, 1)\n",
    "gg_dataset_work['xboxlive_id'] = np.where(gg_dataset_work['xboxlive_id'].isnull(), 0, 1)\n",
    "gg_dataset_work['nintendo_id'] = np.where(gg_dataset_work['nintendo_id'].isnull(), 0, 1)\n",
    "gg_dataset_work['gamecenter_id'] = np.where(gg_dataset_work['gamecenter_id'].isnull(), 0, 1)\n",
    "gg_dataset_work['googleplay_id'] = np.where(gg_dataset_work['googleplay_id'].isnull(), 0, 1)\n",
    "gg_dataset_work['battlenet_id'] = np.where(gg_dataset_work['battlenet_id'].isnull(), 0, 1)\n",
    "gg_dataset_work['uplay_id'] = np.where(gg_dataset_work['uplay_id'].isnull(), 0, 1)\n",
    "gg_dataset_work['origin_id'] = np.where(gg_dataset_work['origin_id'].isnull(), 0, 1)\n",
    "gg_dataset_work['youtube_id'] = np.where(gg_dataset_work['youtube_id'].isnull(), 0, 1)\n",
    "gg_dataset_work['twitch_id'] = np.where(gg_dataset_work['twitch_id'].isnull(), 0, 1)\n",
    "gg_dataset_work['phone_number'] = np.where(gg_dataset_work['phone_number'].isnull(), 0, 1)"
   ]
  },
  {
   "cell_type": "code",
   "execution_count": 25,
   "metadata": {},
   "outputs": [],
   "source": [
    "gg_dataset_work['lng'] = gg_dataset_work['lng'].astype('float64')"
   ]
  },
  {
   "cell_type": "code",
   "execution_count": 26,
   "metadata": {},
   "outputs": [
    {
     "name": "stdout",
     "output_type": "stream",
     "text": [
      "<class 'pandas.core.frame.DataFrame'>\n",
      "Int64Index: 20120 entries, 51076 to 71195\n",
      "Data columns (total 39 columns):\n",
      " #   Column             Non-Null Count  Dtype          \n",
      "---  ------             --------------  -----          \n",
      " 0   email              20120 non-null  int64          \n",
      " 1   name               20120 non-null  int64          \n",
      " 2   nickname           20120 non-null  int64          \n",
      " 3   avatar             20120 non-null  int64          \n",
      " 4   profile_pic_id     20120 non-null  int64          \n",
      " 5   city               20120 non-null  int64          \n",
      " 6   ip_country_code    20120 non-null  int64          \n",
      " 7   lat                14202 non-null  float64        \n",
      " 8   lng                14202 non-null  float64        \n",
      " 9   fbid               20120 non-null  int64          \n",
      " 10  quickblox_id       20120 non-null  int64          \n",
      " 11  steam_id           20120 non-null  int64          \n",
      " 12  psn_id             20120 non-null  int64          \n",
      " 13  xboxlive_id        20120 non-null  int64          \n",
      " 14  nintendo_id        20120 non-null  int64          \n",
      " 15  gamecenter_id      20120 non-null  int64          \n",
      " 16  googleplay_id      20120 non-null  int64          \n",
      " 17  battlenet_id       20120 non-null  int64          \n",
      " 18  uplay_id           20120 non-null  int64          \n",
      " 19  origin_id          20120 non-null  int64          \n",
      " 20  youtube_id         20120 non-null  int64          \n",
      " 21  twitch_id          20120 non-null  int64          \n",
      " 22  phone_number       20120 non-null  int64          \n",
      " 23  creation_datetime  20120 non-null  datetime64[ns] \n",
      " 24  last_login         20120 non-null  datetime64[ns] \n",
      " 25  last_interaction   20120 non-null  datetime64[ns] \n",
      " 26  qtde_games         20120 non-null  float64        \n",
      " 27  qtde_grupos        20120 non-null  float64        \n",
      " 28  qtde_contatos      20120 non-null  float64        \n",
      " 29  qtde_eventos       20120 non-null  float64        \n",
      " 30  qtde_mensagens     20120 non-null  float64        \n",
      " 31  qtde_plataformas   20120 non-null  float64        \n",
      " 32  qtde_acessos       20120 non-null  float64        \n",
      " 33  inatividade        20120 non-null  timedelta64[ns]\n",
      " 34  inatividade_days   20120 non-null  int64          \n",
      " 35  churn              20120 non-null  bool           \n",
      " 36  tempo_uso          20120 non-null  timedelta64[ns]\n",
      " 37  tempo_uso_days     20120 non-null  int64          \n",
      " 38  pouco_uso          20120 non-null  bool           \n",
      "dtypes: bool(2), datetime64[ns](3), float64(9), int64(23), timedelta64[ns](2)\n",
      "memory usage: 5.9 MB\n"
     ]
    }
   ],
   "source": [
    "gg_dataset_work.info()"
   ]
  },
  {
   "cell_type": "code",
   "execution_count": 27,
   "metadata": {},
   "outputs": [
    {
     "name": "stdout",
     "output_type": "stream",
     "text": [
      "\n",
      "30% of the givem DataFrame:\n",
      "<class 'pandas.core.frame.DataFrame'>\n",
      "Int64Index: 6036 entries, 68989 to 69503\n",
      "Data columns (total 39 columns):\n",
      " #   Column             Non-Null Count  Dtype          \n",
      "---  ------             --------------  -----          \n",
      " 0   email              6036 non-null   int64          \n",
      " 1   name               6036 non-null   int64          \n",
      " 2   nickname           6036 non-null   int64          \n",
      " 3   avatar             6036 non-null   int64          \n",
      " 4   profile_pic_id     6036 non-null   int64          \n",
      " 5   city               6036 non-null   int64          \n",
      " 6   ip_country_code    6036 non-null   int64          \n",
      " 7   lat                4222 non-null   float64        \n",
      " 8   lng                4222 non-null   float64        \n",
      " 9   fbid               6036 non-null   int64          \n",
      " 10  quickblox_id       6036 non-null   int64          \n",
      " 11  steam_id           6036 non-null   int64          \n",
      " 12  psn_id             6036 non-null   int64          \n",
      " 13  xboxlive_id        6036 non-null   int64          \n",
      " 14  nintendo_id        6036 non-null   int64          \n",
      " 15  gamecenter_id      6036 non-null   int64          \n",
      " 16  googleplay_id      6036 non-null   int64          \n",
      " 17  battlenet_id       6036 non-null   int64          \n",
      " 18  uplay_id           6036 non-null   int64          \n",
      " 19  origin_id          6036 non-null   int64          \n",
      " 20  youtube_id         6036 non-null   int64          \n",
      " 21  twitch_id          6036 non-null   int64          \n",
      " 22  phone_number       6036 non-null   int64          \n",
      " 23  creation_datetime  6036 non-null   datetime64[ns] \n",
      " 24  last_login         6036 non-null   datetime64[ns] \n",
      " 25  last_interaction   6036 non-null   datetime64[ns] \n",
      " 26  qtde_games         6036 non-null   float64        \n",
      " 27  qtde_grupos        6036 non-null   float64        \n",
      " 28  qtde_contatos      6036 non-null   float64        \n",
      " 29  qtde_eventos       6036 non-null   float64        \n",
      " 30  qtde_mensagens     6036 non-null   float64        \n",
      " 31  qtde_plataformas   6036 non-null   float64        \n",
      " 32  qtde_acessos       6036 non-null   float64        \n",
      " 33  inatividade        6036 non-null   timedelta64[ns]\n",
      " 34  inatividade_days   6036 non-null   int64          \n",
      " 35  churn              6036 non-null   bool           \n",
      " 36  tempo_uso          6036 non-null   timedelta64[ns]\n",
      " 37  tempo_uso_days     6036 non-null   int64          \n",
      " 38  pouco_uso          6036 non-null   bool           \n",
      "dtypes: bool(2), datetime64[ns](3), float64(9), int64(23), timedelta64[ns](2)\n",
      "memory usage: 1.8 MB\n",
      "None\n",
      "\n",
      "rest 70% of the given DataFrame:\n",
      "<class 'pandas.core.frame.DataFrame'>\n",
      "Int64Index: 14084 entries, 51077 to 71195\n",
      "Data columns (total 39 columns):\n",
      " #   Column             Non-Null Count  Dtype          \n",
      "---  ------             --------------  -----          \n",
      " 0   email              14084 non-null  int64          \n",
      " 1   name               14084 non-null  int64          \n",
      " 2   nickname           14084 non-null  int64          \n",
      " 3   avatar             14084 non-null  int64          \n",
      " 4   profile_pic_id     14084 non-null  int64          \n",
      " 5   city               14084 non-null  int64          \n",
      " 6   ip_country_code    14084 non-null  int64          \n",
      " 7   lat                9980 non-null   float64        \n",
      " 8   lng                9980 non-null   float64        \n",
      " 9   fbid               14084 non-null  int64          \n",
      " 10  quickblox_id       14084 non-null  int64          \n",
      " 11  steam_id           14084 non-null  int64          \n",
      " 12  psn_id             14084 non-null  int64          \n",
      " 13  xboxlive_id        14084 non-null  int64          \n",
      " 14  nintendo_id        14084 non-null  int64          \n",
      " 15  gamecenter_id      14084 non-null  int64          \n",
      " 16  googleplay_id      14084 non-null  int64          \n",
      " 17  battlenet_id       14084 non-null  int64          \n",
      " 18  uplay_id           14084 non-null  int64          \n",
      " 19  origin_id          14084 non-null  int64          \n",
      " 20  youtube_id         14084 non-null  int64          \n",
      " 21  twitch_id          14084 non-null  int64          \n",
      " 22  phone_number       14084 non-null  int64          \n",
      " 23  creation_datetime  14084 non-null  datetime64[ns] \n",
      " 24  last_login         14084 non-null  datetime64[ns] \n",
      " 25  last_interaction   14084 non-null  datetime64[ns] \n",
      " 26  qtde_games         14084 non-null  float64        \n",
      " 27  qtde_grupos        14084 non-null  float64        \n",
      " 28  qtde_contatos      14084 non-null  float64        \n",
      " 29  qtde_eventos       14084 non-null  float64        \n",
      " 30  qtde_mensagens     14084 non-null  float64        \n",
      " 31  qtde_plataformas   14084 non-null  float64        \n",
      " 32  qtde_acessos       14084 non-null  float64        \n",
      " 33  inatividade        14084 non-null  timedelta64[ns]\n",
      " 34  inatividade_days   14084 non-null  int64          \n",
      " 35  churn              14084 non-null  bool           \n",
      " 36  tempo_uso          14084 non-null  timedelta64[ns]\n",
      " 37  tempo_uso_days     14084 non-null  int64          \n",
      " 38  pouco_uso          14084 non-null  bool           \n",
      "dtypes: bool(2), datetime64[ns](3), float64(9), int64(23), timedelta64[ns](2)\n",
      "memory usage: 4.1 MB\n",
      "None\n"
     ]
    }
   ],
   "source": [
    "# Creating a dataframe with 30% registers of original dataframe \n",
    "gg_30 = gg_dataset_work.sample(frac = 0.3) \n",
    "  \n",
    "# Creating dataframe with the rest of the 70% registers \n",
    "gg_70 = gg_dataset_work.drop(gg_30.index) \n",
    "  \n",
    "print(\"\\n30% of the givem DataFrame:\") \n",
    "print(gg_30.info()) \n",
    "  \n",
    "print(\"\\nrest 70% of the given DataFrame:\") \n",
    "print(gg_70.info())"
   ]
  },
  {
   "cell_type": "code",
   "execution_count": 28,
   "metadata": {},
   "outputs": [],
   "source": [
    "gg_train = gg_70.copy()"
   ]
  },
  {
   "cell_type": "code",
   "execution_count": 29,
   "metadata": {},
   "outputs": [],
   "source": [
    "gg_test = gg_30.copy()\n",
    "gg_test.drop(columns=['churn'], inplace=True)"
   ]
  },
  {
   "cell_type": "code",
   "execution_count": 30,
   "metadata": {},
   "outputs": [],
   "source": [
    "gg_train.to_csv('../CSVs/games_train.csv')"
   ]
  },
  {
   "cell_type": "code",
   "execution_count": 31,
   "metadata": {},
   "outputs": [],
   "source": [
    "gg_test.to_csv('../CSVs/games_test.csv')"
   ]
  },
  {
   "cell_type": "code",
   "execution_count": null,
   "metadata": {},
   "outputs": [],
   "source": []
  },
  {
   "cell_type": "code",
   "execution_count": null,
   "metadata": {},
   "outputs": [],
   "source": []
  }
 ],
 "metadata": {
  "kernelspec": {
   "display_name": "Python 3",
   "language": "python",
   "name": "python3"
  },
  "language_info": {
   "codemirror_mode": {
    "name": "ipython",
    "version": 3
   },
   "file_extension": ".py",
   "mimetype": "text/x-python",
   "name": "python",
   "nbconvert_exporter": "python",
   "pygments_lexer": "ipython3",
   "version": "3.8.3"
  }
 },
 "nbformat": 4,
 "nbformat_minor": 4
}
